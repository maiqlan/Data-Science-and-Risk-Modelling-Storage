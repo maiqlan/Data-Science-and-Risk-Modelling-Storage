{
 "cells": [
  {
   "cell_type": "markdown",
   "id": "bb428f2f",
   "metadata": {},
   "source": [
    "## Problem 4 – dimensionality reduction (10% bonus)"
   ]
  },
  {
   "cell_type": "markdown",
   "id": "c71905d4",
   "metadata": {},
   "source": [
    "If you are up for it, you may also generate dimensionality reductions of the data (e.g., principal\n",
    "components analysis (PCA), linear discriminants analysis (LDA), t-SNE)"
   ]
  },
  {
   "cell_type": "code",
   "execution_count": null,
   "id": "8c62d910",
   "metadata": {},
   "outputs": [],
   "source": []
  },
  {
   "cell_type": "code",
   "execution_count": null,
   "id": "be5276c6",
   "metadata": {},
   "outputs": [],
   "source": []
  },
  {
   "cell_type": "code",
   "execution_count": null,
   "id": "e0a66834",
   "metadata": {},
   "outputs": [],
   "source": []
  }
 ],
 "metadata": {
  "kernelspec": {
   "display_name": "Python 3 (ipykernel)",
   "language": "python",
   "name": "python3"
  },
  "language_info": {
   "codemirror_mode": {
    "name": "ipython",
    "version": 3
   },
   "file_extension": ".py",
   "mimetype": "text/x-python",
   "name": "python",
   "nbconvert_exporter": "python",
   "pygments_lexer": "ipython3",
   "version": "3.9.13"
  }
 },
 "nbformat": 4,
 "nbformat_minor": 5
}
