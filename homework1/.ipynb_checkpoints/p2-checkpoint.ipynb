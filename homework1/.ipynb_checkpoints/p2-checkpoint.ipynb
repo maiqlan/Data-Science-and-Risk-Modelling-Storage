{
 "cells": [
  {
   "cell_type": "markdown",
   "id": "3cde8500",
   "metadata": {},
   "source": [
    "## Problem 2 – probabilities (40%)\n"
   ]
  },
  {
   "cell_type": "markdown",
   "id": "144da62c",
   "metadata": {},
   "source": [
    "Next, you are to generate visualizations of various probability distributions (univariate,\n",
    "multivariate), and interpret them.\n",
    "You can use any of the visualization methods presented in the lectures (and reading lists.)"
   ]
  },
  {
   "cell_type": "code",
   "execution_count": null,
   "id": "88da0336",
   "metadata": {},
   "outputs": [],
   "source": [
    "import pandas as pd\n",
    "import numpy as np\n",
    "import matplotlib.pylab as plt\n",
    "import seaborn as sns\n",
    "plt.style.use('ggplot')"
   ]
  },
  {
   "cell_type": "code",
   "execution_count": null,
   "id": "04af6faf",
   "metadata": {},
   "outputs": [],
   "source": [
    "df = pd.read_csv('Top_1000_IMDb_movies_New_version.csv')\n",
    "df = df.drop(['Description', 'Unnamed: 0'], axis = 1)\n",
    "df['Year of Release'] = df['Year of Release'].str.extract(r'(\\d{4})').astype(int)\n",
    "df['Votes'] = df['Votes'].str.replace(',', '', regex=True).astype(int)\n",
    "df['Gross'] = df['Gross'].str.replace('[^\\d.]', '', regex=True).astype(float)"
   ]
  },
  {
   "cell_type": "code",
   "execution_count": null,
   "id": "34225255",
   "metadata": {},
   "outputs": [],
   "source": [
    "df.head()"
   ]
  },
  {
   "cell_type": "code",
   "execution_count": null,
   "id": "7e03f246",
   "metadata": {},
   "outputs": [],
   "source": [
    "#first we select the columns with NaN values, or \n",
    "#the ones we want to do data amputation on.\n",
    "columns_with_NaN = ['Gross', 'Metascore of movie']\n",
    "\n",
    "#next, we calculate the means for these columns, so we can fill the NaN fields\n",
    "averages = df[columns_with_NaN].mean()\n",
    "\n",
    "#finally, we select the columns, and fill them with their respective averages.\n",
    "df[columns_with_NaN] = df[columns_with_NaN].fillna(averages)"
   ]
  },
  {
   "cell_type": "markdown",
   "id": "cdfaaa65",
   "metadata": {},
   "source": [
    "# Univariate Visualization:\n",
    "For the sake of this part, I show a variety of graphs meant to help visualize the data, but not all of them are elaborated on in the p2.pdf due to the sheer amount of graphs. The information can be interpreted similarly, so I use the KDE plot instead to show my observations."
   ]
  },
  {
   "cell_type": "code",
   "execution_count": null,
   "id": "e66ad956",
   "metadata": {},
   "outputs": [],
   "source": [
    "ax1 = df['Metascore of movie'].plot(kind='hist', bins=20, title = 'Metascore of Movies by Distribution')\n",
    "ax1.set_xlabel('Metascore')"
   ]
  },
  {
   "cell_type": "code",
   "execution_count": null,
   "id": "cb713ecf",
   "metadata": {},
   "outputs": [],
   "source": [
    "sns.kdeplot(x = df['Metascore of movie'])"
   ]
  },
  {
   "cell_type": "code",
   "execution_count": null,
   "id": "c10e40a5",
   "metadata": {
    "scrolled": false
   },
   "outputs": [],
   "source": [
    "ax1 = df['Year of Release'].plot(kind='hist', bins=25, title = 'Year of Release by Distribution')\n",
    "ax1.set_xlabel('Year of Release')"
   ]
  },
  {
   "cell_type": "code",
   "execution_count": null,
   "id": "effd80bc",
   "metadata": {},
   "outputs": [],
   "source": [
    "sns.kdeplot(x = df[\"Year of Release\"])"
   ]
  },
  {
   "cell_type": "code",
   "execution_count": null,
   "id": "d204e67c",
   "metadata": {},
   "outputs": [],
   "source": [
    "ax1 = df['Movie Rating'].plot(kind='hist', bins=15, title = 'Movie Rating by Distribution')\n",
    "ax1.set_xlabel('Movie Rating')"
   ]
  },
  {
   "cell_type": "code",
   "execution_count": null,
   "id": "e627bb40",
   "metadata": {},
   "outputs": [],
   "source": [
    "sns.kdeplot(x = df[\"Movie Rating\"])"
   ]
  },
  {
   "cell_type": "code",
   "execution_count": null,
   "id": "03fe2338",
   "metadata": {},
   "outputs": [],
   "source": [
    "ax1 = df['Watch Time'].plot(kind='hist', bins=20, title = 'Watch Time by Distribution')\n",
    "ax1.set_xlabel('Watch Time')"
   ]
  },
  {
   "cell_type": "code",
   "execution_count": null,
   "id": "77cb7d66",
   "metadata": {},
   "outputs": [],
   "source": [
    "sns.kdeplot(x = df[\"Watch Time\"])"
   ]
  },
  {
   "cell_type": "code",
   "execution_count": null,
   "id": "acc8748e",
   "metadata": {},
   "outputs": [],
   "source": [
    "ax1 = df['Gross'].plot(kind='hist', bins=15, title = 'Gross by Distribution')\n",
    "ax1.set_xlabel('Gross')"
   ]
  },
  {
   "cell_type": "code",
   "execution_count": null,
   "id": "2db459c7",
   "metadata": {},
   "outputs": [],
   "source": [
    "sns.kdeplot(x = df[\"Gross\"])"
   ]
  },
  {
   "cell_type": "code",
   "execution_count": null,
   "id": "fdbb9f8d",
   "metadata": {},
   "outputs": [],
   "source": [
    "ax1 = df['Votes'].plot(kind='hist', bins=20, title = 'Votes by Distribution')\n",
    "ax1.set_xlabel('Votes')"
   ]
  },
  {
   "cell_type": "code",
   "execution_count": null,
   "id": "4abd2190",
   "metadata": {},
   "outputs": [],
   "source": [
    "sns.kdeplot(x = df[\"Votes\"])"
   ]
  },
  {
   "cell_type": "markdown",
   "id": "a12b7c44",
   "metadata": {},
   "source": [
    "# Multivariate Visualization"
   ]
  },
  {
   "cell_type": "code",
   "execution_count": null,
   "id": "f0837d43",
   "metadata": {},
   "outputs": [],
   "source": [
    "sns.pairplot(df, vars=['Year of Release', 'Watch Time','Movie Rating',\n",
    "                       'Metascore of movie','Gross', 'Votes']\n",
    "            )\n",
    "#this pariplot helps to plot pairwise relationships in a dataset, \n",
    "#which helps to make it easier to view the distributions and variance in the\n",
    "#multivariate visualization"
   ]
  },
  {
   "cell_type": "code",
   "execution_count": null,
   "id": "1a98407f",
   "metadata": {},
   "outputs": [],
   "source": [
    "sns.scatterplot(x = \"Year of Release\",\n",
    "                y = \"Gross\",\n",
    "                hue = \"Year of Release\",\n",
    "                data = df)"
   ]
  },
  {
   "cell_type": "code",
   "execution_count": null,
   "id": "71cc31d6",
   "metadata": {},
   "outputs": [],
   "source": [
    "sns.kdeplot(x = \"Year of Release\",\n",
    "                y = \"Gross\",\n",
    "#                 hue = \"Year of Release\",\n",
    "                data = df)"
   ]
  },
  {
   "cell_type": "code",
   "execution_count": null,
   "id": "de708dea",
   "metadata": {},
   "outputs": [],
   "source": [
    "sns.scatterplot(x = \"Gross\",\n",
    "                y = \"Votes\",\n",
    "                hue = \"Gross\",\n",
    "                data = df)"
   ]
  },
  {
   "cell_type": "code",
   "execution_count": null,
   "id": "43aa8c88",
   "metadata": {},
   "outputs": [],
   "source": [
    "sns.kdeplot(x = \"Gross\",\n",
    "                y = \"Votes\",\n",
    "#                 hue = \"Gross\",\n",
    "                data = df)"
   ]
  },
  {
   "cell_type": "code",
   "execution_count": null,
   "id": "b896b8b4",
   "metadata": {},
   "outputs": [],
   "source": [
    "sns.scatterplot(x = \"Year of Release\",\n",
    "                y = \"Metascore of movie\",\n",
    "                hue = \"Year of Release\",\n",
    "                data = df)"
   ]
  },
  {
   "cell_type": "code",
   "execution_count": null,
   "id": "ebe714e3",
   "metadata": {},
   "outputs": [],
   "source": [
    "sns.kdeplot(x = \"Year of Release\",\n",
    "                y = \"Metascore of movie\",\n",
    "#                 hue = \"Year of Release\",\n",
    "                data = df)"
   ]
  },
  {
   "cell_type": "code",
   "execution_count": null,
   "id": "68baf428",
   "metadata": {},
   "outputs": [],
   "source": [
    "sns.scatterplot(x = \"Watch Time\",\n",
    "                y = \"Movie Rating\",\n",
    "                hue = \"Watch Time\",\n",
    "                data = df)"
   ]
  },
  {
   "cell_type": "code",
   "execution_count": null,
   "id": "694321e8",
   "metadata": {},
   "outputs": [],
   "source": [
    "sns.kdeplot(x = \"Watch Time\",\n",
    "                y = \"Movie Rating\",\n",
    "#                 hue = \"Watch Time\",\n",
    "                data = df)"
   ]
  },
  {
   "cell_type": "code",
   "execution_count": null,
   "id": "74134434",
   "metadata": {},
   "outputs": [],
   "source": [
    "sns.scatterplot(x = \"Metascore of movie\",\n",
    "                y = \"Movie Rating\",\n",
    "                hue = \"Metascore of movie\",\n",
    "                data = df)"
   ]
  },
  {
   "cell_type": "code",
   "execution_count": null,
   "id": "c51a2e34",
   "metadata": {},
   "outputs": [],
   "source": [
    "sns.kdeplot(x = \"Metascore of movie\",\n",
    "            y = \"Movie Rating\",\n",
    "            data = df)\n",
    "plt.show()"
   ]
  },
  {
   "cell_type": "code",
   "execution_count": null,
   "id": "9aa2821b",
   "metadata": {},
   "outputs": [],
   "source": [
    "#here, we graph the correlation in the form of a heatmap to better visualize the \n",
    "#correlation coefficients.\n",
    "df_corr = df[['Year of Release', 'Watch Time','Movie Rating',\n",
    "                       'Metascore of movie','Gross', 'Votes']].corr()"
   ]
  },
  {
   "cell_type": "code",
   "execution_count": null,
   "id": "1a423ba8",
   "metadata": {},
   "outputs": [],
   "source": [
    "sns.heatmap(df_corr, annot=True)"
   ]
  },
  {
   "cell_type": "code",
   "execution_count": null,
   "id": "d80a289c",
   "metadata": {},
   "outputs": [],
   "source": []
  }
 ],
 "metadata": {
  "kernelspec": {
   "display_name": "Python 3 (ipykernel)",
   "language": "python",
   "name": "python3"
  },
  "language_info": {
   "codemirror_mode": {
    "name": "ipython",
    "version": 3
   },
   "file_extension": ".py",
   "mimetype": "text/x-python",
   "name": "python",
   "nbconvert_exporter": "python",
   "pygments_lexer": "ipython3",
   "version": "3.9.13"
  }
 },
 "nbformat": 4,
 "nbformat_minor": 5
}
