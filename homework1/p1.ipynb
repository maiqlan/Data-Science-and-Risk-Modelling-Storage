{
 "cells": [
  {
   "cell_type": "markdown",
   "id": "240800f2",
   "metadata": {},
   "source": [
    "# Problem 1 – statistics (30%)"
   ]
  },
  {
   "cell_type": "markdown",
   "id": "4bab6ce4",
   "metadata": {},
   "source": [
    "\n",
    "In a first step, you are to compute various statistics on the data (univariate, multivariate), and\n",
    "interpret these statistics results, e.g., the average movie rating indicates that [write your\n",
    "interpretation], the correlation between variables X and Y suggests that [write your\n",
    "interpretation], etc.\n",
    "You can use any of the measures of central tendency, dispersion and correlation presented in the\n",
    "lectures (and reading lists.)"
   ]
  },
  {
   "cell_type": "markdown",
   "id": "59f22c1d",
   "metadata": {},
   "source": [
    "# Step 0: Importing and Reading the Data (aka  Exploratory Data Analysis)"
   ]
  },
  {
   "cell_type": "markdown",
   "id": "d52c1b4a",
   "metadata": {},
   "source": [
    "First, let's import the necessary libraries. For the sake of this problem, I'm going to read in data, check in packaging, look at top and bottom of data, and check your \"n\"s before I formulate a question, simply because I want to know what I'm working with before I make any questions."
   ]
  },
  {
   "cell_type": "code",
   "execution_count": 3,
   "id": "67c02bb7",
   "metadata": {},
   "outputs": [],
   "source": [
    "import pandas as pd\n",
    "import numpy as np\n",
    "import matplotlib.pylab as plt\n",
    "import seaborn as sns\n",
    "plt.style.use('ggplot')\n",
    "# pd.set_option('max_columns', 200)"
   ]
  },
  {
   "cell_type": "code",
   "execution_count": 4,
   "id": "842b8da0",
   "metadata": {},
   "outputs": [],
   "source": [
    "df = pd.read_csv('Top_1000_IMDb_movies_New_version.csv')"
   ]
  },
  {
   "cell_type": "markdown",
   "id": "dd7d5810",
   "metadata": {},
   "source": [
    "# Step 1: Data Understanding\n",
    "- Dataframe shape\n",
    "- Head and Tail\n",
    "- Dtypes\n",
    "- Describe"
   ]
  },
  {
   "cell_type": "code",
   "execution_count": 5,
   "id": "f45508cd",
   "metadata": {},
   "outputs": [
    {
     "data": {
      "text/plain": [
       "(1000, 9)"
      ]
     },
     "execution_count": 5,
     "metadata": {},
     "output_type": "execute_result"
    }
   ],
   "source": [
    "#get shape of dataframe\n",
    "df.shape"
   ]
  },
  {
   "cell_type": "code",
   "execution_count": 6,
   "id": "b8c22231",
   "metadata": {},
   "outputs": [
    {
     "data": {
      "text/html": [
       "<div>\n",
       "<style scoped>\n",
       "    .dataframe tbody tr th:only-of-type {\n",
       "        vertical-align: middle;\n",
       "    }\n",
       "\n",
       "    .dataframe tbody tr th {\n",
       "        vertical-align: top;\n",
       "    }\n",
       "\n",
       "    .dataframe thead th {\n",
       "        text-align: right;\n",
       "    }\n",
       "</style>\n",
       "<table border=\"1\" class=\"dataframe\">\n",
       "  <thead>\n",
       "    <tr style=\"text-align: right;\">\n",
       "      <th></th>\n",
       "      <th>Unnamed: 0</th>\n",
       "      <th>Movie Name</th>\n",
       "      <th>Year of Release</th>\n",
       "      <th>Watch Time</th>\n",
       "      <th>Movie Rating</th>\n",
       "      <th>Metascore of movie</th>\n",
       "      <th>Gross</th>\n",
       "      <th>Votes</th>\n",
       "      <th>Description</th>\n",
       "    </tr>\n",
       "  </thead>\n",
       "  <tbody>\n",
       "    <tr>\n",
       "      <th>0</th>\n",
       "      <td>0</td>\n",
       "      <td>The Shawshank Redemption</td>\n",
       "      <td>1994</td>\n",
       "      <td>142</td>\n",
       "      <td>9.3</td>\n",
       "      <td>82.0</td>\n",
       "      <td>28.34</td>\n",
       "      <td>27,77,378</td>\n",
       "      <td>Over the course of several years, two convicts...</td>\n",
       "    </tr>\n",
       "    <tr>\n",
       "      <th>1</th>\n",
       "      <td>1</td>\n",
       "      <td>The Godfather</td>\n",
       "      <td>1972</td>\n",
       "      <td>175</td>\n",
       "      <td>9.2</td>\n",
       "      <td>100.0</td>\n",
       "      <td>134.97</td>\n",
       "      <td>19,33,588</td>\n",
       "      <td>Don Vito Corleone, head of a mafia family, dec...</td>\n",
       "    </tr>\n",
       "    <tr>\n",
       "      <th>2</th>\n",
       "      <td>2</td>\n",
       "      <td>The Dark Knight</td>\n",
       "      <td>2008</td>\n",
       "      <td>152</td>\n",
       "      <td>9.0</td>\n",
       "      <td>84.0</td>\n",
       "      <td>534.86</td>\n",
       "      <td>27,54,087</td>\n",
       "      <td>When the menace known as the Joker wreaks havo...</td>\n",
       "    </tr>\n",
       "    <tr>\n",
       "      <th>3</th>\n",
       "      <td>3</td>\n",
       "      <td>Schindler's List</td>\n",
       "      <td>1993</td>\n",
       "      <td>195</td>\n",
       "      <td>9.0</td>\n",
       "      <td>95.0</td>\n",
       "      <td>96.9</td>\n",
       "      <td>13,97,886</td>\n",
       "      <td>In German-occupied Poland during World War II,...</td>\n",
       "    </tr>\n",
       "    <tr>\n",
       "      <th>4</th>\n",
       "      <td>4</td>\n",
       "      <td>12 Angry Men</td>\n",
       "      <td>1957</td>\n",
       "      <td>96</td>\n",
       "      <td>9.0</td>\n",
       "      <td>97.0</td>\n",
       "      <td>4.36</td>\n",
       "      <td>8,24,211</td>\n",
       "      <td>The jury in a New York City murder trial is fr...</td>\n",
       "    </tr>\n",
       "  </tbody>\n",
       "</table>\n",
       "</div>"
      ],
      "text/plain": [
       "   Unnamed: 0                Movie Name Year of Release  Watch Time  \\\n",
       "0           0  The Shawshank Redemption            1994         142   \n",
       "1           1             The Godfather            1972         175   \n",
       "2           2           The Dark Knight            2008         152   \n",
       "3           3          Schindler's List            1993         195   \n",
       "4           4              12 Angry Men            1957          96   \n",
       "\n",
       "   Movie Rating  Metascore of movie   Gross      Votes  \\\n",
       "0           9.3                82.0   28.34  27,77,378   \n",
       "1           9.2               100.0  134.97  19,33,588   \n",
       "2           9.0                84.0  534.86  27,54,087   \n",
       "3           9.0                95.0    96.9  13,97,886   \n",
       "4           9.0                97.0    4.36   8,24,211   \n",
       "\n",
       "                                         Description  \n",
       "0  Over the course of several years, two convicts...  \n",
       "1  Don Vito Corleone, head of a mafia family, dec...  \n",
       "2  When the menace known as the Joker wreaks havo...  \n",
       "3  In German-occupied Poland during World War II,...  \n",
       "4  The jury in a New York City murder trial is fr...  "
      ]
     },
     "execution_count": 6,
     "metadata": {},
     "output_type": "execute_result"
    }
   ],
   "source": [
    "#inspect head to see how the data is formatted\n",
    "df.head(5)"
   ]
  },
  {
   "cell_type": "code",
   "execution_count": 7,
   "id": "f3e91731",
   "metadata": {},
   "outputs": [
    {
     "data": {
      "text/html": [
       "<div>\n",
       "<style scoped>\n",
       "    .dataframe tbody tr th:only-of-type {\n",
       "        vertical-align: middle;\n",
       "    }\n",
       "\n",
       "    .dataframe tbody tr th {\n",
       "        vertical-align: top;\n",
       "    }\n",
       "\n",
       "    .dataframe thead th {\n",
       "        text-align: right;\n",
       "    }\n",
       "</style>\n",
       "<table border=\"1\" class=\"dataframe\">\n",
       "  <thead>\n",
       "    <tr style=\"text-align: right;\">\n",
       "      <th></th>\n",
       "      <th>Unnamed: 0</th>\n",
       "      <th>Movie Name</th>\n",
       "      <th>Year of Release</th>\n",
       "      <th>Watch Time</th>\n",
       "      <th>Movie Rating</th>\n",
       "      <th>Metascore of movie</th>\n",
       "      <th>Gross</th>\n",
       "      <th>Votes</th>\n",
       "      <th>Description</th>\n",
       "    </tr>\n",
       "  </thead>\n",
       "  <tbody>\n",
       "    <tr>\n",
       "      <th>995</th>\n",
       "      <td>995</td>\n",
       "      <td>Philomena</td>\n",
       "      <td>2013</td>\n",
       "      <td>98</td>\n",
       "      <td>7.6</td>\n",
       "      <td>77.0</td>\n",
       "      <td>37.71</td>\n",
       "      <td>1,02,336</td>\n",
       "      <td>A world-weary political journalist picks up th...</td>\n",
       "    </tr>\n",
       "    <tr>\n",
       "      <th>996</th>\n",
       "      <td>996</td>\n",
       "      <td>Un long dimanche de fiançailles</td>\n",
       "      <td>2004</td>\n",
       "      <td>133</td>\n",
       "      <td>7.6</td>\n",
       "      <td>76.0</td>\n",
       "      <td>6.17</td>\n",
       "      <td>75,004</td>\n",
       "      <td>Tells the story of a young woman's relentless ...</td>\n",
       "    </tr>\n",
       "    <tr>\n",
       "      <th>997</th>\n",
       "      <td>997</td>\n",
       "      <td>Shine</td>\n",
       "      <td>1996</td>\n",
       "      <td>105</td>\n",
       "      <td>7.6</td>\n",
       "      <td>87.0</td>\n",
       "      <td>35.81</td>\n",
       "      <td>55,589</td>\n",
       "      <td>Pianist David Helfgott, driven by his father a...</td>\n",
       "    </tr>\n",
       "    <tr>\n",
       "      <th>998</th>\n",
       "      <td>998</td>\n",
       "      <td>The Invisible Man</td>\n",
       "      <td>1933</td>\n",
       "      <td>71</td>\n",
       "      <td>7.6</td>\n",
       "      <td>87.0</td>\n",
       "      <td>NaN</td>\n",
       "      <td>37,822</td>\n",
       "      <td>A scientist finds a way of becoming invisible,...</td>\n",
       "    </tr>\n",
       "    <tr>\n",
       "      <th>999</th>\n",
       "      <td>999</td>\n",
       "      <td>Celda 211</td>\n",
       "      <td>2009</td>\n",
       "      <td>113</td>\n",
       "      <td>7.6</td>\n",
       "      <td>NaN</td>\n",
       "      <td>NaN</td>\n",
       "      <td>69,464</td>\n",
       "      <td>The story of two men on different sides of a p...</td>\n",
       "    </tr>\n",
       "  </tbody>\n",
       "</table>\n",
       "</div>"
      ],
      "text/plain": [
       "     Unnamed: 0                       Movie Name Year of Release  Watch Time  \\\n",
       "995         995                        Philomena            2013          98   \n",
       "996         996  Un long dimanche de fiançailles            2004         133   \n",
       "997         997                            Shine            1996         105   \n",
       "998         998                The Invisible Man            1933          71   \n",
       "999         999                        Celda 211            2009         113   \n",
       "\n",
       "     Movie Rating  Metascore of movie  Gross     Votes  \\\n",
       "995           7.6                77.0  37.71  1,02,336   \n",
       "996           7.6                76.0   6.17    75,004   \n",
       "997           7.6                87.0  35.81    55,589   \n",
       "998           7.6                87.0    NaN    37,822   \n",
       "999           7.6                 NaN    NaN    69,464   \n",
       "\n",
       "                                           Description  \n",
       "995  A world-weary political journalist picks up th...  \n",
       "996  Tells the story of a young woman's relentless ...  \n",
       "997  Pianist David Helfgott, driven by his father a...  \n",
       "998  A scientist finds a way of becoming invisible,...  \n",
       "999  The story of two men on different sides of a p...  "
      ]
     },
     "execution_count": 7,
     "metadata": {},
     "output_type": "execute_result"
    }
   ],
   "source": [
    "#inspect tail, we see that there are some NaN values.\n",
    "df.tail(5)"
   ]
  },
  {
   "cell_type": "code",
   "execution_count": 8,
   "id": "962bd935",
   "metadata": {},
   "outputs": [
    {
     "data": {
      "text/plain": [
       "Unnamed: 0              int64\n",
       "Movie Name             object\n",
       "Year of Release        object\n",
       "Watch Time              int64\n",
       "Movie Rating          float64\n",
       "Metascore of movie    float64\n",
       "Gross                  object\n",
       "Votes                  object\n",
       "Description            object\n",
       "dtype: object"
      ]
     },
     "execution_count": 8,
     "metadata": {},
     "output_type": "execute_result"
    }
   ],
   "source": [
    "df.dtypes"
   ]
  },
  {
   "cell_type": "markdown",
   "id": "60d883d0",
   "metadata": {},
   "source": [
    "We might want to convert Year of Release and Votes to a Number format, as we want to be able to compute statistics on the data. Year of release is preceeded by some numbers like I or II so, I just want the last four numbers."
   ]
  },
  {
   "cell_type": "markdown",
   "id": "3ef17305",
   "metadata": {},
   "source": [
    "# Brainstorming Hypothesis\n",
    "The fields I think have potential to be worked with is Year of Release, Watch Time, Movie Rating, Metascore of Movie, Gross, and Votes. One thing that sort of concerns me is how in some fields, such as Gross or Metascore of movie, the fields are NaN. So perhaps I might not use these fields.\n",
    "\n",
    "In terms of \"Check your ns\", the data looks correct! There appears to be 1000 tuples, which is in alignment with the 1000 top IMDb Movies."
   ]
  },
  {
   "cell_type": "code",
   "execution_count": 9,
   "id": "94fb9e08",
   "metadata": {},
   "outputs": [
    {
     "data": {
      "text/plain": [
       "Index(['Unnamed: 0', 'Movie Name', 'Year of Release', 'Watch Time',\n",
       "       'Movie Rating', 'Metascore of movie', 'Gross', 'Votes', 'Description'],\n",
       "      dtype='object')"
      ]
     },
     "execution_count": 9,
     "metadata": {},
     "output_type": "execute_result"
    }
   ],
   "source": [
    "#inspect columns\n",
    "df.columns"
   ]
  },
  {
   "cell_type": "markdown",
   "id": "a786a9a5",
   "metadata": {},
   "source": [
    "# Step 2: Data Preparation\n",
    "This can involve:\n",
    "- Dropping columns and rows we don't want.\n",
    "- Getting rid of Duplicates\n",
    "- Renaming Fields\n",
    "- Creating Features"
   ]
  },
  {
   "cell_type": "markdown",
   "id": "8f75c4d1",
   "metadata": {},
   "source": [
    "I want to do some conversions so I can actually access some of the data and run analysis on it. I'll also drop columns I don't think are relevant, such as Description and Unnamed. "
   ]
  },
  {
   "cell_type": "code",
   "execution_count": 10,
   "id": "1a621d3e",
   "metadata": {},
   "outputs": [],
   "source": [
    "#drop description and unnamed because they have nothing of value -- \n",
    "#we do axis =  1 because we want to drop columns and 1 means columsn.\n",
    "df = df.drop(['Description', 'Unnamed: 0'], axis = 1)"
   ]
  },
  {
   "cell_type": "code",
   "execution_count": 11,
   "id": "064c455b",
   "metadata": {
    "scrolled": true
   },
   "outputs": [
    {
     "data": {
      "text/plain": [
       "(1000, 7)"
      ]
     },
     "execution_count": 11,
     "metadata": {},
     "output_type": "execute_result"
    }
   ],
   "source": [
    "#take df.shape again to see that we dropped 2 columns\n",
    "df.shape"
   ]
  },
  {
   "cell_type": "code",
   "execution_count": 12,
   "id": "4a8604a5",
   "metadata": {},
   "outputs": [
    {
     "data": {
      "text/html": [
       "<div>\n",
       "<style scoped>\n",
       "    .dataframe tbody tr th:only-of-type {\n",
       "        vertical-align: middle;\n",
       "    }\n",
       "\n",
       "    .dataframe tbody tr th {\n",
       "        vertical-align: top;\n",
       "    }\n",
       "\n",
       "    .dataframe thead th {\n",
       "        text-align: right;\n",
       "    }\n",
       "</style>\n",
       "<table border=\"1\" class=\"dataframe\">\n",
       "  <thead>\n",
       "    <tr style=\"text-align: right;\">\n",
       "      <th></th>\n",
       "      <th>Movie Name</th>\n",
       "      <th>Year of Release</th>\n",
       "      <th>Watch Time</th>\n",
       "      <th>Movie Rating</th>\n",
       "      <th>Metascore of movie</th>\n",
       "      <th>Gross</th>\n",
       "      <th>Votes</th>\n",
       "    </tr>\n",
       "  </thead>\n",
       "  <tbody>\n",
       "    <tr>\n",
       "      <th>0</th>\n",
       "      <td>The Shawshank Redemption</td>\n",
       "      <td>1994</td>\n",
       "      <td>142</td>\n",
       "      <td>9.3</td>\n",
       "      <td>82.0</td>\n",
       "      <td>28.34</td>\n",
       "      <td>27,77,378</td>\n",
       "    </tr>\n",
       "    <tr>\n",
       "      <th>1</th>\n",
       "      <td>The Godfather</td>\n",
       "      <td>1972</td>\n",
       "      <td>175</td>\n",
       "      <td>9.2</td>\n",
       "      <td>100.0</td>\n",
       "      <td>134.97</td>\n",
       "      <td>19,33,588</td>\n",
       "    </tr>\n",
       "    <tr>\n",
       "      <th>2</th>\n",
       "      <td>The Dark Knight</td>\n",
       "      <td>2008</td>\n",
       "      <td>152</td>\n",
       "      <td>9.0</td>\n",
       "      <td>84.0</td>\n",
       "      <td>534.86</td>\n",
       "      <td>27,54,087</td>\n",
       "    </tr>\n",
       "    <tr>\n",
       "      <th>3</th>\n",
       "      <td>Schindler's List</td>\n",
       "      <td>1993</td>\n",
       "      <td>195</td>\n",
       "      <td>9.0</td>\n",
       "      <td>95.0</td>\n",
       "      <td>96.9</td>\n",
       "      <td>13,97,886</td>\n",
       "    </tr>\n",
       "    <tr>\n",
       "      <th>4</th>\n",
       "      <td>12 Angry Men</td>\n",
       "      <td>1957</td>\n",
       "      <td>96</td>\n",
       "      <td>9.0</td>\n",
       "      <td>97.0</td>\n",
       "      <td>4.36</td>\n",
       "      <td>8,24,211</td>\n",
       "    </tr>\n",
       "  </tbody>\n",
       "</table>\n",
       "</div>"
      ],
      "text/plain": [
       "                 Movie Name Year of Release  Watch Time  Movie Rating  \\\n",
       "0  The Shawshank Redemption            1994         142           9.3   \n",
       "1             The Godfather            1972         175           9.2   \n",
       "2           The Dark Knight            2008         152           9.0   \n",
       "3          Schindler's List            1993         195           9.0   \n",
       "4              12 Angry Men            1957          96           9.0   \n",
       "\n",
       "   Metascore of movie   Gross      Votes  \n",
       "0                82.0   28.34  27,77,378  \n",
       "1               100.0  134.97  19,33,588  \n",
       "2                84.0  534.86  27,54,087  \n",
       "3                95.0    96.9  13,97,886  \n",
       "4                97.0    4.36   8,24,211  "
      ]
     },
     "execution_count": 12,
     "metadata": {},
     "output_type": "execute_result"
    }
   ],
   "source": [
    "df.head(5)"
   ]
  },
  {
   "cell_type": "code",
   "execution_count": 13,
   "id": "b6eb33e9",
   "metadata": {},
   "outputs": [
    {
     "data": {
      "text/html": [
       "<div>\n",
       "<style scoped>\n",
       "    .dataframe tbody tr th:only-of-type {\n",
       "        vertical-align: middle;\n",
       "    }\n",
       "\n",
       "    .dataframe tbody tr th {\n",
       "        vertical-align: top;\n",
       "    }\n",
       "\n",
       "    .dataframe thead th {\n",
       "        text-align: right;\n",
       "    }\n",
       "</style>\n",
       "<table border=\"1\" class=\"dataframe\">\n",
       "  <thead>\n",
       "    <tr style=\"text-align: right;\">\n",
       "      <th></th>\n",
       "      <th>Movie Name</th>\n",
       "      <th>Year of Release</th>\n",
       "      <th>Watch Time</th>\n",
       "      <th>Movie Rating</th>\n",
       "      <th>Metascore of movie</th>\n",
       "      <th>Gross</th>\n",
       "      <th>Votes</th>\n",
       "    </tr>\n",
       "  </thead>\n",
       "  <tbody>\n",
       "    <tr>\n",
       "      <th>995</th>\n",
       "      <td>Philomena</td>\n",
       "      <td>2013</td>\n",
       "      <td>98</td>\n",
       "      <td>7.6</td>\n",
       "      <td>77.0</td>\n",
       "      <td>37.71</td>\n",
       "      <td>1,02,336</td>\n",
       "    </tr>\n",
       "    <tr>\n",
       "      <th>996</th>\n",
       "      <td>Un long dimanche de fiançailles</td>\n",
       "      <td>2004</td>\n",
       "      <td>133</td>\n",
       "      <td>7.6</td>\n",
       "      <td>76.0</td>\n",
       "      <td>6.17</td>\n",
       "      <td>75,004</td>\n",
       "    </tr>\n",
       "    <tr>\n",
       "      <th>997</th>\n",
       "      <td>Shine</td>\n",
       "      <td>1996</td>\n",
       "      <td>105</td>\n",
       "      <td>7.6</td>\n",
       "      <td>87.0</td>\n",
       "      <td>35.81</td>\n",
       "      <td>55,589</td>\n",
       "    </tr>\n",
       "    <tr>\n",
       "      <th>998</th>\n",
       "      <td>The Invisible Man</td>\n",
       "      <td>1933</td>\n",
       "      <td>71</td>\n",
       "      <td>7.6</td>\n",
       "      <td>87.0</td>\n",
       "      <td>NaN</td>\n",
       "      <td>37,822</td>\n",
       "    </tr>\n",
       "    <tr>\n",
       "      <th>999</th>\n",
       "      <td>Celda 211</td>\n",
       "      <td>2009</td>\n",
       "      <td>113</td>\n",
       "      <td>7.6</td>\n",
       "      <td>NaN</td>\n",
       "      <td>NaN</td>\n",
       "      <td>69,464</td>\n",
       "    </tr>\n",
       "  </tbody>\n",
       "</table>\n",
       "</div>"
      ],
      "text/plain": [
       "                          Movie Name Year of Release  Watch Time  \\\n",
       "995                        Philomena            2013          98   \n",
       "996  Un long dimanche de fiançailles            2004         133   \n",
       "997                            Shine            1996         105   \n",
       "998                The Invisible Man            1933          71   \n",
       "999                        Celda 211            2009         113   \n",
       "\n",
       "     Movie Rating  Metascore of movie  Gross     Votes  \n",
       "995           7.6                77.0  37.71  1,02,336  \n",
       "996           7.6                76.0   6.17    75,004  \n",
       "997           7.6                87.0  35.81    55,589  \n",
       "998           7.6                87.0    NaN    37,822  \n",
       "999           7.6                 NaN    NaN    69,464  "
      ]
     },
     "execution_count": 13,
     "metadata": {},
     "output_type": "execute_result"
    }
   ],
   "source": [
    "df.tail(5)"
   ]
  },
  {
   "cell_type": "markdown",
   "id": "456f0d3c",
   "metadata": {},
   "source": [
    "Now that I've cleaned up the code a bit, I start brainstorming some queries on the data and forming questions/hypotheses. For the sake of this, we use the df1 datatype."
   ]
  },
  {
   "cell_type": "code",
   "execution_count": 14,
   "id": "f5d8247e",
   "metadata": {},
   "outputs": [
    {
     "data": {
      "text/plain": [
       "Movie Name             object\n",
       "Year of Release        object\n",
       "Watch Time              int64\n",
       "Movie Rating          float64\n",
       "Metascore of movie    float64\n",
       "Gross                  object\n",
       "Votes                  object\n",
       "dtype: object"
      ]
     },
     "execution_count": 14,
     "metadata": {},
     "output_type": "execute_result"
    }
   ],
   "source": [
    "#we need to change Year of Release, Gross, Votes into things we can actually use. So we do conversions to numeric\n",
    "df.dtypes"
   ]
  },
  {
   "cell_type": "code",
   "execution_count": 15,
   "id": "1cc81660",
   "metadata": {},
   "outputs": [
    {
     "data": {
      "text/plain": [
       "Movie Name              0\n",
       "Year of Release         0\n",
       "Watch Time              0\n",
       "Movie Rating            0\n",
       "Metascore of movie    155\n",
       "Gross                 162\n",
       "Votes                   0\n",
       "dtype: int64"
      ]
     },
     "execution_count": 15,
     "metadata": {},
     "output_type": "execute_result"
    }
   ],
   "source": [
    "#see the number of NaN rows we have in each column--this shows us that there are NaN values in Metascore of movie and Gross\n",
    "df.isna().sum()"
   ]
  },
  {
   "cell_type": "code",
   "execution_count": 16,
   "id": "42fc633b",
   "metadata": {},
   "outputs": [
    {
     "data": {
      "text/html": [
       "<div>\n",
       "<style scoped>\n",
       "    .dataframe tbody tr th:only-of-type {\n",
       "        vertical-align: middle;\n",
       "    }\n",
       "\n",
       "    .dataframe tbody tr th {\n",
       "        vertical-align: top;\n",
       "    }\n",
       "\n",
       "    .dataframe thead th {\n",
       "        text-align: right;\n",
       "    }\n",
       "</style>\n",
       "<table border=\"1\" class=\"dataframe\">\n",
       "  <thead>\n",
       "    <tr style=\"text-align: right;\">\n",
       "      <th></th>\n",
       "      <th>Movie Name</th>\n",
       "      <th>Year of Release</th>\n",
       "      <th>Watch Time</th>\n",
       "      <th>Movie Rating</th>\n",
       "      <th>Metascore of movie</th>\n",
       "      <th>Gross</th>\n",
       "      <th>Votes</th>\n",
       "    </tr>\n",
       "  </thead>\n",
       "  <tbody>\n",
       "  </tbody>\n",
       "</table>\n",
       "</div>"
      ],
      "text/plain": [
       "Empty DataFrame\n",
       "Columns: [Movie Name, Year of Release, Watch Time, Movie Rating, Metascore of movie, Gross, Votes]\n",
       "Index: []"
      ]
     },
     "execution_count": 16,
     "metadata": {},
     "output_type": "execute_result"
    }
   ],
   "source": [
    "#No duplications!\n",
    "df.loc[df.duplicated()]"
   ]
  },
  {
   "cell_type": "code",
   "execution_count": 17,
   "id": "b86c4e46",
   "metadata": {},
   "outputs": [
    {
     "data": {
      "text/html": [
       "<div>\n",
       "<style scoped>\n",
       "    .dataframe tbody tr th:only-of-type {\n",
       "        vertical-align: middle;\n",
       "    }\n",
       "\n",
       "    .dataframe tbody tr th {\n",
       "        vertical-align: top;\n",
       "    }\n",
       "\n",
       "    .dataframe thead th {\n",
       "        text-align: right;\n",
       "    }\n",
       "</style>\n",
       "<table border=\"1\" class=\"dataframe\">\n",
       "  <thead>\n",
       "    <tr style=\"text-align: right;\">\n",
       "      <th></th>\n",
       "      <th>Movie Name</th>\n",
       "      <th>Year of Release</th>\n",
       "      <th>Watch Time</th>\n",
       "      <th>Movie Rating</th>\n",
       "      <th>Metascore of movie</th>\n",
       "      <th>Gross</th>\n",
       "      <th>Votes</th>\n",
       "    </tr>\n",
       "  </thead>\n",
       "  <tbody>\n",
       "    <tr>\n",
       "      <th>0</th>\n",
       "      <td>The Shawshank Redemption</td>\n",
       "      <td>1994</td>\n",
       "      <td>142</td>\n",
       "      <td>9.3</td>\n",
       "      <td>82.0</td>\n",
       "      <td>28.34</td>\n",
       "      <td>27,77,378</td>\n",
       "    </tr>\n",
       "    <tr>\n",
       "      <th>1</th>\n",
       "      <td>The Godfather</td>\n",
       "      <td>1972</td>\n",
       "      <td>175</td>\n",
       "      <td>9.2</td>\n",
       "      <td>100.0</td>\n",
       "      <td>134.97</td>\n",
       "      <td>19,33,588</td>\n",
       "    </tr>\n",
       "    <tr>\n",
       "      <th>2</th>\n",
       "      <td>The Dark Knight</td>\n",
       "      <td>2008</td>\n",
       "      <td>152</td>\n",
       "      <td>9.0</td>\n",
       "      <td>84.0</td>\n",
       "      <td>534.86</td>\n",
       "      <td>27,54,087</td>\n",
       "    </tr>\n",
       "    <tr>\n",
       "      <th>3</th>\n",
       "      <td>Schindler's List</td>\n",
       "      <td>1993</td>\n",
       "      <td>195</td>\n",
       "      <td>9.0</td>\n",
       "      <td>95.0</td>\n",
       "      <td>96.9</td>\n",
       "      <td>13,97,886</td>\n",
       "    </tr>\n",
       "    <tr>\n",
       "      <th>4</th>\n",
       "      <td>12 Angry Men</td>\n",
       "      <td>1957</td>\n",
       "      <td>96</td>\n",
       "      <td>9.0</td>\n",
       "      <td>97.0</td>\n",
       "      <td>4.36</td>\n",
       "      <td>8,24,211</td>\n",
       "    </tr>\n",
       "  </tbody>\n",
       "</table>\n",
       "</div>"
      ],
      "text/plain": [
       "                 Movie Name Year of Release  Watch Time  Movie Rating  \\\n",
       "0  The Shawshank Redemption            1994         142           9.3   \n",
       "1             The Godfather            1972         175           9.2   \n",
       "2           The Dark Knight            2008         152           9.0   \n",
       "3          Schindler's List            1993         195           9.0   \n",
       "4              12 Angry Men            1957          96           9.0   \n",
       "\n",
       "   Metascore of movie   Gross      Votes  \n",
       "0                82.0   28.34  27,77,378  \n",
       "1               100.0  134.97  19,33,588  \n",
       "2                84.0  534.86  27,54,087  \n",
       "3                95.0    96.9  13,97,886  \n",
       "4                97.0    4.36   8,24,211  "
      ]
     },
     "execution_count": 17,
     "metadata": {},
     "output_type": "execute_result"
    }
   ],
   "source": [
    "df.head(5)"
   ]
  },
  {
   "cell_type": "markdown",
   "id": "cd189c52",
   "metadata": {},
   "source": [
    "Now, I will convert the Year of Release into an int, Gross into an int, and Votes into an int. For year of release, we want to extract the last four values of the field, as when looking over the data, I saw values like I 1989 or 1234. "
   ]
  },
  {
   "cell_type": "code",
   "execution_count": 18,
   "id": "a7f9f8f9",
   "metadata": {},
   "outputs": [],
   "source": [
    "#extract the last four values of the string and convert it to int\n",
    "#this is to get rid of preceeding I and II.\n",
    "df['Year of Release'] = df['Year of Release'].str.extract(r'(\\d{4})').astype(int)"
   ]
  },
  {
   "cell_type": "markdown",
   "id": "822eaddb",
   "metadata": {},
   "source": [
    "To convert votes, we need to parse through and get rid of all the commas. Then, we want to convert it to int."
   ]
  },
  {
   "cell_type": "code",
   "execution_count": 19,
   "id": "882383ab",
   "metadata": {},
   "outputs": [],
   "source": [
    "#this is to replace all commas and get rid of them. Then we convert to int.\n",
    "df['Votes'] = df['Votes'].str.replace(',', '', regex=True).astype(int)"
   ]
  },
  {
   "cell_type": "markdown",
   "id": "ae9ee57b",
   "metadata": {},
   "source": [
    "We need to clean the Gross column before converting it to float. First, we need to get rid of non-numeric characters, and then convert. The reason why I do this is because when looking at the unedited data, I saw a column that displayed #222 as gross. This may cause errors when trying to convert to numeric, so we need to get rid of the non numeric characters."
   ]
  },
  {
   "cell_type": "code",
   "execution_count": 20,
   "id": "a1774f75",
   "metadata": {},
   "outputs": [],
   "source": [
    "#Convert value to float and get rid of non-numeric characters.\n",
    "df['Gross'] = df['Gross'].str.replace('[^\\d.]', '', regex=True).astype(float)"
   ]
  },
  {
   "cell_type": "code",
   "execution_count": 21,
   "id": "6571d960",
   "metadata": {},
   "outputs": [
    {
     "data": {
      "text/html": [
       "<div>\n",
       "<style scoped>\n",
       "    .dataframe tbody tr th:only-of-type {\n",
       "        vertical-align: middle;\n",
       "    }\n",
       "\n",
       "    .dataframe tbody tr th {\n",
       "        vertical-align: top;\n",
       "    }\n",
       "\n",
       "    .dataframe thead th {\n",
       "        text-align: right;\n",
       "    }\n",
       "</style>\n",
       "<table border=\"1\" class=\"dataframe\">\n",
       "  <thead>\n",
       "    <tr style=\"text-align: right;\">\n",
       "      <th></th>\n",
       "      <th>Movie Name</th>\n",
       "      <th>Year of Release</th>\n",
       "      <th>Watch Time</th>\n",
       "      <th>Movie Rating</th>\n",
       "      <th>Metascore of movie</th>\n",
       "      <th>Gross</th>\n",
       "      <th>Votes</th>\n",
       "    </tr>\n",
       "  </thead>\n",
       "  <tbody>\n",
       "    <tr>\n",
       "      <th>0</th>\n",
       "      <td>The Shawshank Redemption</td>\n",
       "      <td>1994</td>\n",
       "      <td>142</td>\n",
       "      <td>9.3</td>\n",
       "      <td>82.0</td>\n",
       "      <td>28.34</td>\n",
       "      <td>2777378</td>\n",
       "    </tr>\n",
       "    <tr>\n",
       "      <th>1</th>\n",
       "      <td>The Godfather</td>\n",
       "      <td>1972</td>\n",
       "      <td>175</td>\n",
       "      <td>9.2</td>\n",
       "      <td>100.0</td>\n",
       "      <td>134.97</td>\n",
       "      <td>1933588</td>\n",
       "    </tr>\n",
       "    <tr>\n",
       "      <th>2</th>\n",
       "      <td>The Dark Knight</td>\n",
       "      <td>2008</td>\n",
       "      <td>152</td>\n",
       "      <td>9.0</td>\n",
       "      <td>84.0</td>\n",
       "      <td>534.86</td>\n",
       "      <td>2754087</td>\n",
       "    </tr>\n",
       "    <tr>\n",
       "      <th>3</th>\n",
       "      <td>Schindler's List</td>\n",
       "      <td>1993</td>\n",
       "      <td>195</td>\n",
       "      <td>9.0</td>\n",
       "      <td>95.0</td>\n",
       "      <td>96.90</td>\n",
       "      <td>1397886</td>\n",
       "    </tr>\n",
       "    <tr>\n",
       "      <th>4</th>\n",
       "      <td>12 Angry Men</td>\n",
       "      <td>1957</td>\n",
       "      <td>96</td>\n",
       "      <td>9.0</td>\n",
       "      <td>97.0</td>\n",
       "      <td>4.36</td>\n",
       "      <td>824211</td>\n",
       "    </tr>\n",
       "  </tbody>\n",
       "</table>\n",
       "</div>"
      ],
      "text/plain": [
       "                 Movie Name  Year of Release  Watch Time  Movie Rating  \\\n",
       "0  The Shawshank Redemption             1994         142           9.3   \n",
       "1             The Godfather             1972         175           9.2   \n",
       "2           The Dark Knight             2008         152           9.0   \n",
       "3          Schindler's List             1993         195           9.0   \n",
       "4              12 Angry Men             1957          96           9.0   \n",
       "\n",
       "   Metascore of movie   Gross    Votes  \n",
       "0                82.0   28.34  2777378  \n",
       "1               100.0  134.97  1933588  \n",
       "2                84.0  534.86  2754087  \n",
       "3                95.0   96.90  1397886  \n",
       "4                97.0    4.36   824211  "
      ]
     },
     "execution_count": 21,
     "metadata": {},
     "output_type": "execute_result"
    }
   ],
   "source": [
    "df.head(5)"
   ]
  },
  {
   "cell_type": "code",
   "execution_count": 22,
   "id": "0d5fa189",
   "metadata": {
    "scrolled": true
   },
   "outputs": [
    {
     "data": {
      "text/html": [
       "<div>\n",
       "<style scoped>\n",
       "    .dataframe tbody tr th:only-of-type {\n",
       "        vertical-align: middle;\n",
       "    }\n",
       "\n",
       "    .dataframe tbody tr th {\n",
       "        vertical-align: top;\n",
       "    }\n",
       "\n",
       "    .dataframe thead th {\n",
       "        text-align: right;\n",
       "    }\n",
       "</style>\n",
       "<table border=\"1\" class=\"dataframe\">\n",
       "  <thead>\n",
       "    <tr style=\"text-align: right;\">\n",
       "      <th></th>\n",
       "      <th>Movie Name</th>\n",
       "      <th>Year of Release</th>\n",
       "      <th>Watch Time</th>\n",
       "      <th>Movie Rating</th>\n",
       "      <th>Metascore of movie</th>\n",
       "      <th>Gross</th>\n",
       "      <th>Votes</th>\n",
       "    </tr>\n",
       "  </thead>\n",
       "  <tbody>\n",
       "    <tr>\n",
       "      <th>995</th>\n",
       "      <td>Philomena</td>\n",
       "      <td>2013</td>\n",
       "      <td>98</td>\n",
       "      <td>7.6</td>\n",
       "      <td>77.0</td>\n",
       "      <td>37.71</td>\n",
       "      <td>102336</td>\n",
       "    </tr>\n",
       "    <tr>\n",
       "      <th>996</th>\n",
       "      <td>Un long dimanche de fiançailles</td>\n",
       "      <td>2004</td>\n",
       "      <td>133</td>\n",
       "      <td>7.6</td>\n",
       "      <td>76.0</td>\n",
       "      <td>6.17</td>\n",
       "      <td>75004</td>\n",
       "    </tr>\n",
       "    <tr>\n",
       "      <th>997</th>\n",
       "      <td>Shine</td>\n",
       "      <td>1996</td>\n",
       "      <td>105</td>\n",
       "      <td>7.6</td>\n",
       "      <td>87.0</td>\n",
       "      <td>35.81</td>\n",
       "      <td>55589</td>\n",
       "    </tr>\n",
       "    <tr>\n",
       "      <th>998</th>\n",
       "      <td>The Invisible Man</td>\n",
       "      <td>1933</td>\n",
       "      <td>71</td>\n",
       "      <td>7.6</td>\n",
       "      <td>87.0</td>\n",
       "      <td>NaN</td>\n",
       "      <td>37822</td>\n",
       "    </tr>\n",
       "    <tr>\n",
       "      <th>999</th>\n",
       "      <td>Celda 211</td>\n",
       "      <td>2009</td>\n",
       "      <td>113</td>\n",
       "      <td>7.6</td>\n",
       "      <td>NaN</td>\n",
       "      <td>NaN</td>\n",
       "      <td>69464</td>\n",
       "    </tr>\n",
       "  </tbody>\n",
       "</table>\n",
       "</div>"
      ],
      "text/plain": [
       "                          Movie Name  Year of Release  Watch Time  \\\n",
       "995                        Philomena             2013          98   \n",
       "996  Un long dimanche de fiançailles             2004         133   \n",
       "997                            Shine             1996         105   \n",
       "998                The Invisible Man             1933          71   \n",
       "999                        Celda 211             2009         113   \n",
       "\n",
       "     Movie Rating  Metascore of movie  Gross   Votes  \n",
       "995           7.6                77.0  37.71  102336  \n",
       "996           7.6                76.0   6.17   75004  \n",
       "997           7.6                87.0  35.81   55589  \n",
       "998           7.6                87.0    NaN   37822  \n",
       "999           7.6                 NaN    NaN   69464  "
      ]
     },
     "execution_count": 22,
     "metadata": {},
     "output_type": "execute_result"
    }
   ],
   "source": [
    "df.tail(5)"
   ]
  },
  {
   "cell_type": "markdown",
   "id": "e8d77d1d",
   "metadata": {},
   "source": [
    "Everything looks good! Now I need to fill the NaN values and do data amputation. By replacing the NaN values with an average (as reccomended in class) I can help interpolate the data."
   ]
  },
  {
   "cell_type": "code",
   "execution_count": 23,
   "id": "a31a8eda",
   "metadata": {},
   "outputs": [
    {
     "data": {
      "text/plain": [
       "Movie Name             object\n",
       "Year of Release         int32\n",
       "Watch Time              int64\n",
       "Movie Rating          float64\n",
       "Metascore of movie    float64\n",
       "Gross                 float64\n",
       "Votes                   int32\n",
       "dtype: object"
      ]
     },
     "execution_count": 23,
     "metadata": {},
     "output_type": "execute_result"
    }
   ],
   "source": [
    "df.dtypes"
   ]
  },
  {
   "cell_type": "code",
   "execution_count": 24,
   "id": "6c245858",
   "metadata": {
    "scrolled": true
   },
   "outputs": [
    {
     "data": {
      "text/html": [
       "<div>\n",
       "<style scoped>\n",
       "    .dataframe tbody tr th:only-of-type {\n",
       "        vertical-align: middle;\n",
       "    }\n",
       "\n",
       "    .dataframe tbody tr th {\n",
       "        vertical-align: top;\n",
       "    }\n",
       "\n",
       "    .dataframe thead th {\n",
       "        text-align: right;\n",
       "    }\n",
       "</style>\n",
       "<table border=\"1\" class=\"dataframe\">\n",
       "  <thead>\n",
       "    <tr style=\"text-align: right;\">\n",
       "      <th></th>\n",
       "      <th>Movie Name</th>\n",
       "      <th>Year of Release</th>\n",
       "      <th>Watch Time</th>\n",
       "      <th>Movie Rating</th>\n",
       "      <th>Metascore of movie</th>\n",
       "      <th>Gross</th>\n",
       "      <th>Votes</th>\n",
       "    </tr>\n",
       "  </thead>\n",
       "  <tbody>\n",
       "    <tr>\n",
       "      <th>995</th>\n",
       "      <td>Philomena</td>\n",
       "      <td>2013</td>\n",
       "      <td>98</td>\n",
       "      <td>7.6</td>\n",
       "      <td>77.000000</td>\n",
       "      <td>37.710000</td>\n",
       "      <td>102336</td>\n",
       "    </tr>\n",
       "    <tr>\n",
       "      <th>996</th>\n",
       "      <td>Un long dimanche de fiançailles</td>\n",
       "      <td>2004</td>\n",
       "      <td>133</td>\n",
       "      <td>7.6</td>\n",
       "      <td>76.000000</td>\n",
       "      <td>6.170000</td>\n",
       "      <td>75004</td>\n",
       "    </tr>\n",
       "    <tr>\n",
       "      <th>997</th>\n",
       "      <td>Shine</td>\n",
       "      <td>1996</td>\n",
       "      <td>105</td>\n",
       "      <td>7.6</td>\n",
       "      <td>87.000000</td>\n",
       "      <td>35.810000</td>\n",
       "      <td>55589</td>\n",
       "    </tr>\n",
       "    <tr>\n",
       "      <th>998</th>\n",
       "      <td>The Invisible Man</td>\n",
       "      <td>1933</td>\n",
       "      <td>71</td>\n",
       "      <td>7.6</td>\n",
       "      <td>87.000000</td>\n",
       "      <td>73.016014</td>\n",
       "      <td>37822</td>\n",
       "    </tr>\n",
       "    <tr>\n",
       "      <th>999</th>\n",
       "      <td>Celda 211</td>\n",
       "      <td>2009</td>\n",
       "      <td>113</td>\n",
       "      <td>7.6</td>\n",
       "      <td>79.011834</td>\n",
       "      <td>73.016014</td>\n",
       "      <td>69464</td>\n",
       "    </tr>\n",
       "  </tbody>\n",
       "</table>\n",
       "</div>"
      ],
      "text/plain": [
       "                          Movie Name  Year of Release  Watch Time  \\\n",
       "995                        Philomena             2013          98   \n",
       "996  Un long dimanche de fiançailles             2004         133   \n",
       "997                            Shine             1996         105   \n",
       "998                The Invisible Man             1933          71   \n",
       "999                        Celda 211             2009         113   \n",
       "\n",
       "     Movie Rating  Metascore of movie      Gross   Votes  \n",
       "995           7.6           77.000000  37.710000  102336  \n",
       "996           7.6           76.000000   6.170000   75004  \n",
       "997           7.6           87.000000  35.810000   55589  \n",
       "998           7.6           87.000000  73.016014   37822  \n",
       "999           7.6           79.011834  73.016014   69464  "
      ]
     },
     "execution_count": 24,
     "metadata": {},
     "output_type": "execute_result"
    }
   ],
   "source": [
    "#first we select the columns with NaN values, or \n",
    "#the ones we want to do data amputation on.\n",
    "columns_with_NaN = ['Gross', 'Metascore of movie']\n",
    "\n",
    "#next, we calculate the means for these columns, so we can fill the NaN fields\n",
    "averages = df[columns_with_NaN].mean()\n",
    "\n",
    "#finally, we select the columns, and fill them with their respective averages.\n",
    "df[columns_with_NaN] = df[columns_with_NaN].fillna(averages)\n",
    "\n",
    "#looking to see if it worked...\n",
    "df.tail(5)"
   ]
  },
  {
   "cell_type": "markdown",
   "id": "e0f93928",
   "metadata": {},
   "source": [
    "We have thus filled the columns containing NaN values using the respective averages! Let's proceed with the data processing."
   ]
  },
  {
   "cell_type": "markdown",
   "id": "cb46c5b2",
   "metadata": {},
   "source": [
    "# Step 3: Feature Understanding:\n",
    "- Univariate Analysis\n",
    "    - Plotting Feature Distributions through:\n",
    "        - Histogram\n",
    "        - KDE\n",
    "        - Boxplot"
   ]
  },
  {
   "cell_type": "code",
   "execution_count": 25,
   "id": "8f448b60",
   "metadata": {},
   "outputs": [
    {
     "data": {
      "text/plain": [
       "Drishyam 2                                       2\n",
       "Scarface                                         2\n",
       "Drishyam                                         2\n",
       "The Shawshank Redemption                         1\n",
       "La montaña sagrada                               1\n",
       "                                                ..\n",
       "Black                                            1\n",
       "Her Sey Çok Güzel Olacak                         1\n",
       "Anand                                            1\n",
       "Mission: Impossible - Dead Reckoning Part One    1\n",
       "Celda 211                                        1\n",
       "Name: Movie Name, Length: 997, dtype: int64"
      ]
     },
     "execution_count": 25,
     "metadata": {},
     "output_type": "execute_result"
    }
   ],
   "source": [
    "df['Movie Name'].value_counts()"
   ]
  },
  {
   "cell_type": "code",
   "execution_count": 26,
   "id": "73ebd484",
   "metadata": {},
   "outputs": [
    {
     "data": {
      "text/plain": [
       "Text(0, 0.5, 'Count by Movie')"
      ]
     },
     "execution_count": 26,
     "metadata": {},
     "output_type": "execute_result"
    },
    {
     "data": {
      "image/png": "[encoded data removed]",
      "text/plain": [
       "<Figure size 640x480 with 1 Axes>"
      ]
     },
     "metadata": {},
     "output_type": "display_data"
    }
   ],
   "source": [
    "#create bar chart to see movie ratings by distribution, we graph the movie rating up against the\n",
    "#count of the movie, which is the purpose of value_counts()\n",
    "ax = df['Movie Rating'].value_counts()\\\n",
    ".plot(kind='bar', title = 'Movie Ratings by Distribution')\n",
    "ax.set_xlabel('Movie Rating')\n",
    "ax.set_ylabel('Count by Movie')"
   ]
  },
  {
   "cell_type": "code",
   "execution_count": 27,
   "id": "cd1e1bb4",
   "metadata": {},
   "outputs": [
    {
     "data": {
      "text/plain": [
       "Text(0.5, 0, 'Metascore')"
      ]
     },
     "execution_count": 27,
     "metadata": {},
     "output_type": "execute_result"
    },
    {
     "data": {
      "image/png": "[encoded data removed]",
      "text/plain": [
       "<Figure size 640x480 with 1 Axes>"
      ]
     },
     "metadata": {},
     "output_type": "display_data"
    }
   ],
   "source": [
    "#plot histogram of the chart using matplot lib, This is just for visualiztation purposes (personal) \n",
    "#and is in no way part of p1. This is more so done for me so I can kind of get an idea of how the data\n",
    "#is meant to be distributed, as shown in the df.describe()\n",
    "ax1 = df['Metascore of movie'].plot(kind='hist', bins=20, title = 'Metascore of Movies by Distribution')\n",
    "ax1.set_xlabel('Metascore')"
   ]
  },
  {
   "cell_type": "markdown",
   "id": "439b96af",
   "metadata": {},
   "source": [
    "Let's run a quick summary of the data as well. We ignore Unnamed: 0, as it doesn't really have any data of value."
   ]
  },
  {
   "cell_type": "code",
   "execution_count": 28,
   "id": "5c5f93ff",
   "metadata": {},
   "outputs": [
    {
     "data": {
      "text/html": [
       "<div>\n",
       "<style scoped>\n",
       "    .dataframe tbody tr th:only-of-type {\n",
       "        vertical-align: middle;\n",
       "    }\n",
       "\n",
       "    .dataframe tbody tr th {\n",
       "        vertical-align: top;\n",
       "    }\n",
       "\n",
       "    .dataframe thead th {\n",
       "        text-align: right;\n",
       "    }\n",
       "</style>\n",
       "<table border=\"1\" class=\"dataframe\">\n",
       "  <thead>\n",
       "    <tr style=\"text-align: right;\">\n",
       "      <th></th>\n",
       "      <th>Year of Release</th>\n",
       "      <th>Watch Time</th>\n",
       "      <th>Movie Rating</th>\n",
       "      <th>Metascore of movie</th>\n",
       "      <th>Gross</th>\n",
       "      <th>Votes</th>\n",
       "    </tr>\n",
       "  </thead>\n",
       "  <tbody>\n",
       "    <tr>\n",
       "      <th>count</th>\n",
       "      <td>1000.000000</td>\n",
       "      <td>1000.000000</td>\n",
       "      <td>1000.000000</td>\n",
       "      <td>1000.000000</td>\n",
       "      <td>1000.000000</td>\n",
       "      <td>1.000000e+03</td>\n",
       "    </tr>\n",
       "    <tr>\n",
       "      <th>mean</th>\n",
       "      <td>1991.666000</td>\n",
       "      <td>124.253000</td>\n",
       "      <td>7.970200</td>\n",
       "      <td>79.011834</td>\n",
       "      <td>73.016014</td>\n",
       "      <td>3.190469e+05</td>\n",
       "    </tr>\n",
       "    <tr>\n",
       "      <th>std</th>\n",
       "      <td>24.188045</td>\n",
       "      <td>28.800355</td>\n",
       "      <td>0.275732</td>\n",
       "      <td>11.005772</td>\n",
       "      <td>105.326037</td>\n",
       "      <td>3.871814e+05</td>\n",
       "    </tr>\n",
       "    <tr>\n",
       "      <th>min</th>\n",
       "      <td>1920.000000</td>\n",
       "      <td>45.000000</td>\n",
       "      <td>7.600000</td>\n",
       "      <td>28.000000</td>\n",
       "      <td>0.000000</td>\n",
       "      <td>2.581300e+04</td>\n",
       "    </tr>\n",
       "    <tr>\n",
       "      <th>25%</th>\n",
       "      <td>1975.000000</td>\n",
       "      <td>103.000000</td>\n",
       "      <td>7.800000</td>\n",
       "      <td>73.000000</td>\n",
       "      <td>5.010000</td>\n",
       "      <td>6.238100e+04</td>\n",
       "    </tr>\n",
       "    <tr>\n",
       "      <th>50%</th>\n",
       "      <td>1999.000000</td>\n",
       "      <td>120.000000</td>\n",
       "      <td>7.900000</td>\n",
       "      <td>79.011834</td>\n",
       "      <td>44.805000</td>\n",
       "      <td>1.581340e+05</td>\n",
       "    </tr>\n",
       "    <tr>\n",
       "      <th>75%</th>\n",
       "      <td>2011.000000</td>\n",
       "      <td>139.000000</td>\n",
       "      <td>8.100000</td>\n",
       "      <td>86.000000</td>\n",
       "      <td>73.016014</td>\n",
       "      <td>4.436372e+05</td>\n",
       "    </tr>\n",
       "    <tr>\n",
       "      <th>max</th>\n",
       "      <td>2023.000000</td>\n",
       "      <td>321.000000</td>\n",
       "      <td>9.300000</td>\n",
       "      <td>100.000000</td>\n",
       "      <td>936.660000</td>\n",
       "      <td>2.777378e+06</td>\n",
       "    </tr>\n",
       "  </tbody>\n",
       "</table>\n",
       "</div>"
      ],
      "text/plain": [
       "       Year of Release   Watch Time  Movie Rating  Metascore of movie  \\\n",
       "count      1000.000000  1000.000000   1000.000000         1000.000000   \n",
       "mean       1991.666000   124.253000      7.970200           79.011834   \n",
       "std          24.188045    28.800355      0.275732           11.005772   \n",
       "min        1920.000000    45.000000      7.600000           28.000000   \n",
       "25%        1975.000000   103.000000      7.800000           73.000000   \n",
       "50%        1999.000000   120.000000      7.900000           79.011834   \n",
       "75%        2011.000000   139.000000      8.100000           86.000000   \n",
       "max        2023.000000   321.000000      9.300000          100.000000   \n",
       "\n",
       "             Gross         Votes  \n",
       "count  1000.000000  1.000000e+03  \n",
       "mean     73.016014  3.190469e+05  \n",
       "std     105.326037  3.871814e+05  \n",
       "min       0.000000  2.581300e+04  \n",
       "25%       5.010000  6.238100e+04  \n",
       "50%      44.805000  1.581340e+05  \n",
       "75%      73.016014  4.436372e+05  \n",
       "max     936.660000  2.777378e+06  "
      ]
     },
     "execution_count": 28,
     "metadata": {},
     "output_type": "execute_result"
    }
   ],
   "source": [
    "#this gives us descriptive statistics on the dataframe, \n",
    "#allowing us to get values that summarize central tendency, dispersion\n",
    "# and shape of the dispersion. I use this to compute the general values.\n",
    "df.describe()"
   ]
  },
  {
   "cell_type": "markdown",
   "id": "843cabe3",
   "metadata": {},
   "source": [
    "# Step 4: Feature Relationships"
   ]
  },
  {
   "cell_type": "code",
   "execution_count": 29,
   "id": "2a0a8294",
   "metadata": {},
   "outputs": [
    {
     "data": {
      "text/html": [
       "<div>\n",
       "<style scoped>\n",
       "    .dataframe tbody tr th:only-of-type {\n",
       "        vertical-align: middle;\n",
       "    }\n",
       "\n",
       "    .dataframe tbody tr th {\n",
       "        vertical-align: top;\n",
       "    }\n",
       "\n",
       "    .dataframe thead th {\n",
       "        text-align: right;\n",
       "    }\n",
       "</style>\n",
       "<table border=\"1\" class=\"dataframe\">\n",
       "  <thead>\n",
       "    <tr style=\"text-align: right;\">\n",
       "      <th></th>\n",
       "      <th>Movie Name</th>\n",
       "      <th>Year of Release</th>\n",
       "      <th>Watch Time</th>\n",
       "      <th>Movie Rating</th>\n",
       "      <th>Metascore of movie</th>\n",
       "      <th>Gross</th>\n",
       "      <th>Votes</th>\n",
       "    </tr>\n",
       "  </thead>\n",
       "  <tbody>\n",
       "    <tr>\n",
       "      <th>0</th>\n",
       "      <td>The Shawshank Redemption</td>\n",
       "      <td>1994</td>\n",
       "      <td>142</td>\n",
       "      <td>9.3</td>\n",
       "      <td>82.0</td>\n",
       "      <td>28.34</td>\n",
       "      <td>2777378</td>\n",
       "    </tr>\n",
       "    <tr>\n",
       "      <th>1</th>\n",
       "      <td>The Godfather</td>\n",
       "      <td>1972</td>\n",
       "      <td>175</td>\n",
       "      <td>9.2</td>\n",
       "      <td>100.0</td>\n",
       "      <td>134.97</td>\n",
       "      <td>1933588</td>\n",
       "    </tr>\n",
       "    <tr>\n",
       "      <th>2</th>\n",
       "      <td>The Dark Knight</td>\n",
       "      <td>2008</td>\n",
       "      <td>152</td>\n",
       "      <td>9.0</td>\n",
       "      <td>84.0</td>\n",
       "      <td>534.86</td>\n",
       "      <td>2754087</td>\n",
       "    </tr>\n",
       "    <tr>\n",
       "      <th>3</th>\n",
       "      <td>Schindler's List</td>\n",
       "      <td>1993</td>\n",
       "      <td>195</td>\n",
       "      <td>9.0</td>\n",
       "      <td>95.0</td>\n",
       "      <td>96.90</td>\n",
       "      <td>1397886</td>\n",
       "    </tr>\n",
       "    <tr>\n",
       "      <th>4</th>\n",
       "      <td>12 Angry Men</td>\n",
       "      <td>1957</td>\n",
       "      <td>96</td>\n",
       "      <td>9.0</td>\n",
       "      <td>97.0</td>\n",
       "      <td>4.36</td>\n",
       "      <td>824211</td>\n",
       "    </tr>\n",
       "  </tbody>\n",
       "</table>\n",
       "</div>"
      ],
      "text/plain": [
       "                 Movie Name  Year of Release  Watch Time  Movie Rating  \\\n",
       "0  The Shawshank Redemption             1994         142           9.3   \n",
       "1             The Godfather             1972         175           9.2   \n",
       "2           The Dark Knight             2008         152           9.0   \n",
       "3          Schindler's List             1993         195           9.0   \n",
       "4              12 Angry Men             1957          96           9.0   \n",
       "\n",
       "   Metascore of movie   Gross    Votes  \n",
       "0                82.0   28.34  2777378  \n",
       "1               100.0  134.97  1933588  \n",
       "2                84.0  534.86  2754087  \n",
       "3                95.0   96.90  1397886  \n",
       "4                97.0    4.36   824211  "
      ]
     },
     "execution_count": 29,
     "metadata": {},
     "output_type": "execute_result"
    }
   ],
   "source": [
    "df.head(5)"
   ]
  },
  {
   "cell_type": "code",
   "execution_count": 30,
   "id": "72cc432f",
   "metadata": {},
   "outputs": [
    {
     "data": {
      "text/html": [
       "<div>\n",
       "<style scoped>\n",
       "    .dataframe tbody tr th:only-of-type {\n",
       "        vertical-align: middle;\n",
       "    }\n",
       "\n",
       "    .dataframe tbody tr th {\n",
       "        vertical-align: top;\n",
       "    }\n",
       "\n",
       "    .dataframe thead th {\n",
       "        text-align: right;\n",
       "    }\n",
       "</style>\n",
       "<table border=\"1\" class=\"dataframe\">\n",
       "  <thead>\n",
       "    <tr style=\"text-align: right;\">\n",
       "      <th></th>\n",
       "      <th>Year of Release</th>\n",
       "      <th>Watch Time</th>\n",
       "      <th>Movie Rating</th>\n",
       "      <th>Metascore of movie</th>\n",
       "      <th>Gross</th>\n",
       "      <th>Votes</th>\n",
       "    </tr>\n",
       "  </thead>\n",
       "  <tbody>\n",
       "    <tr>\n",
       "      <th>Year of Release</th>\n",
       "      <td>1.000000</td>\n",
       "      <td>0.208913</td>\n",
       "      <td>-0.070580</td>\n",
       "      <td>-0.321408</td>\n",
       "      <td>0.182873</td>\n",
       "      <td>0.238391</td>\n",
       "    </tr>\n",
       "    <tr>\n",
       "      <th>Watch Time</th>\n",
       "      <td>0.208913</td>\n",
       "      <td>1.000000</td>\n",
       "      <td>0.272353</td>\n",
       "      <td>-0.034591</td>\n",
       "      <td>0.107278</td>\n",
       "      <td>0.154984</td>\n",
       "    </tr>\n",
       "    <tr>\n",
       "      <th>Movie Rating</th>\n",
       "      <td>-0.070580</td>\n",
       "      <td>0.272353</td>\n",
       "      <td>1.000000</td>\n",
       "      <td>0.241215</td>\n",
       "      <td>0.127006</td>\n",
       "      <td>0.483813</td>\n",
       "    </tr>\n",
       "    <tr>\n",
       "      <th>Metascore of movie</th>\n",
       "      <td>-0.321408</td>\n",
       "      <td>-0.034591</td>\n",
       "      <td>0.241215</td>\n",
       "      <td>1.000000</td>\n",
       "      <td>-0.059320</td>\n",
       "      <td>-0.063338</td>\n",
       "    </tr>\n",
       "    <tr>\n",
       "      <th>Gross</th>\n",
       "      <td>0.182873</td>\n",
       "      <td>0.107278</td>\n",
       "      <td>0.127006</td>\n",
       "      <td>-0.059320</td>\n",
       "      <td>1.000000</td>\n",
       "      <td>0.532086</td>\n",
       "    </tr>\n",
       "    <tr>\n",
       "      <th>Votes</th>\n",
       "      <td>0.238391</td>\n",
       "      <td>0.154984</td>\n",
       "      <td>0.483813</td>\n",
       "      <td>-0.063338</td>\n",
       "      <td>0.532086</td>\n",
       "      <td>1.000000</td>\n",
       "    </tr>\n",
       "  </tbody>\n",
       "</table>\n",
       "</div>"
      ],
      "text/plain": [
       "                    Year of Release  Watch Time  Movie Rating  \\\n",
       "Year of Release            1.000000    0.208913     -0.070580   \n",
       "Watch Time                 0.208913    1.000000      0.272353   \n",
       "Movie Rating              -0.070580    0.272353      1.000000   \n",
       "Metascore of movie        -0.321408   -0.034591      0.241215   \n",
       "Gross                      0.182873    0.107278      0.127006   \n",
       "Votes                      0.238391    0.154984      0.483813   \n",
       "\n",
       "                    Metascore of movie     Gross     Votes  \n",
       "Year of Release              -0.321408  0.182873  0.238391  \n",
       "Watch Time                   -0.034591  0.107278  0.154984  \n",
       "Movie Rating                  0.241215  0.127006  0.483813  \n",
       "Metascore of movie            1.000000 -0.059320 -0.063338  \n",
       "Gross                        -0.059320  1.000000  0.532086  \n",
       "Votes                        -0.063338  0.532086  1.000000  "
      ]
     },
     "execution_count": 30,
     "metadata": {},
     "output_type": "execute_result"
    }
   ],
   "source": [
    "#.corr gives us the pariwise correlation of all columns within the dataframe passed in\n",
    "#we use this to determine the compute multivariate analysis on the data, which will\n",
    "#help us to decide which graphs to plot in the next problem.\n",
    "df_corr = df[['Year of Release', 'Watch Time','Movie Rating',\n",
    "                       'Metascore of movie','Gross', 'Votes']].corr()\n",
    "df_corr"
   ]
  },
  {
   "cell_type": "code",
   "execution_count": null,
   "id": "f8806aed",
   "metadata": {},
   "outputs": [],
   "source": []
  },
  {
   "cell_type": "code",
   "execution_count": null,
   "id": "1be63db4",
   "metadata": {},
   "outputs": [],
   "source": []
  }
 ],
 "metadata": {
  "kernelspec": {
   "display_name": "Python 3 (ipykernel)",
   "language": "python",
   "name": "python3"
  },
  "language_info": {
   "codemirror_mode": {
    "name": "ipython",
    "version": 3
   },
   "file_extension": ".py",
   "mimetype": "text/x-python",
   "name": "python",
   "nbconvert_exporter": "python",
   "pygments_lexer": "ipython3",
   "version": "3.9.13"
  }
 },
 "nbformat": 4,
 "nbformat_minor": 5
}
