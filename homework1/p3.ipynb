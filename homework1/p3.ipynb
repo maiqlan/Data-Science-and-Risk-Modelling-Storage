{
 "cells": [
  {
   "cell_type": "markdown",
   "id": "9b496f94",
   "metadata": {},
   "source": [
    "## Problem 3 – hypothesis testing (30%)"
   ]
  },
  {
   "cell_type": "markdown",
   "id": "8d5faa61",
   "metadata": {},
   "source": [
    "Next, you are to generate various hypotheses about the data, and perform statistical tests of\n",
    "those hypotheses. For example, you may hypothesize that there is a positive correlation between\n",
    "the budget of a movie and the revenue it generated. We expect you will generate 4-6\n",
    "hypotheses, though the actual number is not as important as what those hypotheses are testing\n",
    "(i.e., are they meaningful vs. non-sensical).\n",
    "\n",
    "You can use any of the hypothesis testing techniques presented in the lectures (and reading\n",
    "lists.)\n"
   ]
  },
  {
   "cell_type": "code",
   "execution_count": 2,
   "id": "691ec897",
   "metadata": {},
   "outputs": [],
   "source": [
    "import pandas as pd\n",
    "import numpy as np\n",
    "import matplotlib.pylab as plt\n",
    "import seaborn as sns\n",
    "plt.style.use('ggplot')\n",
    "from scipy.stats import ttest_1samp\n",
    "import scipy.stats as stats\n",
    "# pd.set_option('max_columns', 200)"
   ]
  },
  {
   "cell_type": "code",
   "execution_count": 3,
   "id": "c5a7abb5",
   "metadata": {},
   "outputs": [],
   "source": [
    "df = pd.read_csv('Top_1000_IMDb_movies_New_version.csv')"
   ]
  },
  {
   "cell_type": "code",
   "execution_count": 4,
   "id": "e9c700b8",
   "metadata": {},
   "outputs": [],
   "source": [
    "df = pd.read_csv('Top_1000_IMDb_movies_New_version.csv')\n",
    "df = df.drop(['Description', 'Unnamed: 0'], axis = 1)\n",
    "df['Year of Release'] = df['Year of Release'].str.extract(r'(\\d{4})').astype(int)\n",
    "df['Votes'] = df['Votes'].str.replace(',', '', regex=True).astype(int)\n",
    "df['Gross'] = df['Gross'].str.replace('[^\\d.]', '', regex=True).astype(float)"
   ]
  },
  {
   "cell_type": "code",
   "execution_count": 5,
   "id": "27a4af81",
   "metadata": {},
   "outputs": [
    {
     "data": {
      "text/html": [
       "<div>\n",
       "<style scoped>\n",
       "    .dataframe tbody tr th:only-of-type {\n",
       "        vertical-align: middle;\n",
       "    }\n",
       "\n",
       "    .dataframe tbody tr th {\n",
       "        vertical-align: top;\n",
       "    }\n",
       "\n",
       "    .dataframe thead th {\n",
       "        text-align: right;\n",
       "    }\n",
       "</style>\n",
       "<table border=\"1\" class=\"dataframe\">\n",
       "  <thead>\n",
       "    <tr style=\"text-align: right;\">\n",
       "      <th></th>\n",
       "      <th>Movie Name</th>\n",
       "      <th>Year of Release</th>\n",
       "      <th>Watch Time</th>\n",
       "      <th>Movie Rating</th>\n",
       "      <th>Metascore of movie</th>\n",
       "      <th>Gross</th>\n",
       "      <th>Votes</th>\n",
       "    </tr>\n",
       "  </thead>\n",
       "  <tbody>\n",
       "    <tr>\n",
       "      <th>995</th>\n",
       "      <td>Philomena</td>\n",
       "      <td>2013</td>\n",
       "      <td>98</td>\n",
       "      <td>7.6</td>\n",
       "      <td>77.000000</td>\n",
       "      <td>37.710000</td>\n",
       "      <td>102336</td>\n",
       "    </tr>\n",
       "    <tr>\n",
       "      <th>996</th>\n",
       "      <td>Un long dimanche de fiançailles</td>\n",
       "      <td>2004</td>\n",
       "      <td>133</td>\n",
       "      <td>7.6</td>\n",
       "      <td>76.000000</td>\n",
       "      <td>6.170000</td>\n",
       "      <td>75004</td>\n",
       "    </tr>\n",
       "    <tr>\n",
       "      <th>997</th>\n",
       "      <td>Shine</td>\n",
       "      <td>1996</td>\n",
       "      <td>105</td>\n",
       "      <td>7.6</td>\n",
       "      <td>87.000000</td>\n",
       "      <td>35.810000</td>\n",
       "      <td>55589</td>\n",
       "    </tr>\n",
       "    <tr>\n",
       "      <th>998</th>\n",
       "      <td>The Invisible Man</td>\n",
       "      <td>1933</td>\n",
       "      <td>71</td>\n",
       "      <td>7.6</td>\n",
       "      <td>87.000000</td>\n",
       "      <td>73.016014</td>\n",
       "      <td>37822</td>\n",
       "    </tr>\n",
       "    <tr>\n",
       "      <th>999</th>\n",
       "      <td>Celda 211</td>\n",
       "      <td>2009</td>\n",
       "      <td>113</td>\n",
       "      <td>7.6</td>\n",
       "      <td>79.011834</td>\n",
       "      <td>73.016014</td>\n",
       "      <td>69464</td>\n",
       "    </tr>\n",
       "  </tbody>\n",
       "</table>\n",
       "</div>"
      ],
      "text/plain": [
       "                          Movie Name  Year of Release  Watch Time  \\\n",
       "995                        Philomena             2013          98   \n",
       "996  Un long dimanche de fiançailles             2004         133   \n",
       "997                            Shine             1996         105   \n",
       "998                The Invisible Man             1933          71   \n",
       "999                        Celda 211             2009         113   \n",
       "\n",
       "     Movie Rating  Metascore of movie      Gross   Votes  \n",
       "995           7.6           77.000000  37.710000  102336  \n",
       "996           7.6           76.000000   6.170000   75004  \n",
       "997           7.6           87.000000  35.810000   55589  \n",
       "998           7.6           87.000000  73.016014   37822  \n",
       "999           7.6           79.011834  73.016014   69464  "
      ]
     },
     "execution_count": 5,
     "metadata": {},
     "output_type": "execute_result"
    }
   ],
   "source": [
    "#first we select the columns with NaN values, or \n",
    "#the ones we want to do data amputation on.\n",
    "columns_with_NaN = ['Gross', 'Metascore of movie']\n",
    "\n",
    "#next, we calculate the means for these columns, so we can fill the NaN fields\n",
    "averages = df[columns_with_NaN].mean()\n",
    "\n",
    "#finally, we select the columns, and fill them with their respective averages.\n",
    "df[columns_with_NaN] = df[columns_with_NaN].fillna(averages)\n",
    "\n",
    "#looking to see if it worked...\n",
    "df.tail(5)"
   ]
  },
  {
   "cell_type": "markdown",
   "id": "e1bd4f4c",
   "metadata": {},
   "source": [
    "Hypothesis 1: Movies released in recent years (i.e. since 2000) have higher average movie ratings."
   ]
  },
  {
   "cell_type": "code",
   "execution_count": 74,
   "id": "1dedf860",
   "metadata": {},
   "outputs": [
    {
     "name": "stdout",
     "output_type": "stream",
     "text": [
      "p value:  0.624792328358243\n"
     ]
    }
   ],
   "source": [
    "#sort into recent and older movies\n",
    "recent_movies = df[df['Year of Release'] >= 2000]['Metascore of movie']\n",
    "older_movies = df[df['Year of Release'] < 2000]['Metascore of movie']\n",
    "\n",
    "sample_size = 30\n",
    "#take random sample and run ttest (unpaired two sample)\n",
    "recent_sample = np.random.choice(recent_movies, sample_size)\n",
    "older_sample = np.random.choice(older_movies, sample_size)\n",
    "\n",
    "#we put greater because we want to be able to do a right tailed test and see if the population mean 1 is greater\n",
    "#than population mean 2\n",
    "t_statistic, p_value = stats.ttest_ind(recent_sample, older_sample, equal_var=False, alternative = \"greater\")\n",
    "print(\"p value: \",p_value)"
   ]
  },
  {
   "cell_type": "code",
   "execution_count": 75,
   "id": "f3286d28",
   "metadata": {},
   "outputs": [
    {
     "name": "stdout",
     "output_type": "stream",
     "text": [
      "Do not reject.\n"
     ]
    }
   ],
   "source": [
    "if(p_value < 0.05):\n",
    "    print(\"Reject Null Hypothesis.\")\n",
    "else:\n",
    "    print(\"Do not reject.\")"
   ]
  },
  {
   "cell_type": "markdown",
   "id": "23589535",
   "metadata": {},
   "source": [
    "Hypothesis 2: Recently released movies have significantly longer watch times than older movies."
   ]
  },
  {
   "cell_type": "code",
   "execution_count": 79,
   "id": "13fe72b1",
   "metadata": {},
   "outputs": [
    {
     "name": "stdout",
     "output_type": "stream",
     "text": [
      "p value:  0.00032531041245484755\n"
     ]
    }
   ],
   "source": [
    "# Filter the DataFrame to get watch times for movies released since 2000\n",
    "recent_watch = df[df['Year of Release'] >= 2000]['Watch Time']\n",
    "\n",
    "# Filter the DataFrame to get watch times for movies released before 2000\n",
    "older_watch = df[df['Year of Release'] < 2000]['Watch Time']\n",
    "\n",
    "sample_size = 30\n",
    "recent_sample = np.random.choice(recent_watch, sample_size)\n",
    "older_sample = np.random.choice(older_watch, sample_size)\n",
    "\n",
    "# Perform a t-test to compare the means of the two groups, \n",
    "t_statistic, p_value = stats.ttest_ind(recent_sample, older_sample, equal_var=False, alternative = 'greater')\n",
    "print(\"p value: \" ,p_value)"
   ]
  },
  {
   "cell_type": "code",
   "execution_count": 80,
   "id": "c434e777",
   "metadata": {},
   "outputs": [
    {
     "data": {
      "image/png": "[encoded data removed]",
      "text/plain": [
       "<Figure size 800x600 with 1 Axes>"
      ]
     },
     "metadata": {},
     "output_type": "display_data"
    }
   ],
   "source": [
    "# Create a figure and axis for the boxplots\n",
    "fig, ax = plt.subplots(figsize=(8, 6))\n",
    "\n",
    "# Create boxplots for recent_watch and older_watch\n",
    "sns.boxplot(data=[recent_sample, older_sample], ax=ax)\n",
    "\n",
    "# Customize the plot\n",
    "ax.set_xticklabels(['Recent Movies', 'Older Movies'])\n",
    "ax.set_ylabel('Watch Time')\n",
    "ax.set_title('Boxplots of Watch Time for Recent and Older Movies')\n",
    "\n",
    "# Show the plot\n",
    "plt.show()"
   ]
  },
  {
   "cell_type": "code",
   "execution_count": 91,
   "id": "ed0ad65d",
   "metadata": {},
   "outputs": [
    {
     "name": "stdout",
     "output_type": "stream",
     "text": [
      "Reject Null Hypothesis.\n"
     ]
    }
   ],
   "source": [
    "if(p_val < 0.05):\n",
    "    print(\"Reject Null Hypothesis.\")\n",
    "else:\n",
    "    print(\"Do not reject.\")"
   ]
  },
  {
   "cell_type": "markdown",
   "id": "9389ebaa",
   "metadata": {},
   "source": [
    "Hypothesis 3: Movies with a longer watch time tend to recieve higher ratings than those with lower watch times.\n",
    "For the sake of this problem, we say that a long watch time is any movie over 180 minutes."
   ]
  },
  {
   "cell_type": "code",
   "execution_count": 89,
   "id": "4c635888",
   "metadata": {},
   "outputs": [
    {
     "name": "stdout",
     "output_type": "stream",
     "text": [
      "p value:  0.00032531041245484755\n"
     ]
    }
   ],
   "source": [
    "#first, we need to split the data into two groups. \n",
    "#Those with watch times over 180 and those below so we can \n",
    "#get the averages of the movie ratings\n",
    "\n",
    "long_watch = df[df['Watch Time'] >= 180]['Movie Rating']\n",
    "short_watch = df[df['Watch Time'] < 180]['Movie Rating']\n",
    "# print(long_watch.mean())\n",
    "# print(short_watch.mean())\n",
    "\n",
    "sample_size = 30\n",
    "long_sample = np.random.choice(long_watch, sample_size)\n",
    "short_sample = np.random.choice(short_watch, sample_size)\n",
    "\n",
    "t_test, p_val = stats.ttest_ind(long_sample, short_sample, equal_var=False,alternative = \"greater\")\n",
    "\n",
    "print(\"p value: \" ,p_value)"
   ]
  },
  {
   "cell_type": "code",
   "execution_count": 90,
   "id": "b753c327",
   "metadata": {},
   "outputs": [
    {
     "data": {
      "image/png": "[encoded data removed]",
      "text/plain": [
       "<Figure size 800x600 with 1 Axes>"
      ]
     },
     "metadata": {},
     "output_type": "display_data"
    }
   ],
   "source": [
    "fig, ax = plt.subplots(figsize=(8, 6))\n",
    "\n",
    "sns.boxplot(data=[long_sample, short_sample], ax=ax)\n",
    "\n",
    "# Customize the plot\n",
    "ax.set_xticklabels(['Recent Movies', 'Older Movies'])\n",
    "ax.set_ylabel('Movie Rating')\n",
    "ax.set_title('Boxplots of Movie Rating for Recent and Older Movies')\n",
    "\n",
    "# Show the plot\n",
    "plt.show()"
   ]
  },
  {
   "cell_type": "code",
   "execution_count": 87,
   "id": "1cff59a9",
   "metadata": {},
   "outputs": [
    {
     "name": "stdout",
     "output_type": "stream",
     "text": [
      "Reject Null Hypothesis.\n"
     ]
    }
   ],
   "source": [
    "if(p_val < 0.05):\n",
    "    print(\"Reject Null Hypothesis.\")\n",
    "else:\n",
    "    print(\"Do not reject.\")"
   ]
  },
  {
   "cell_type": "markdown",
   "id": "e100ac0c",
   "metadata": {},
   "source": [
    "Hypothesis 4: See if there is a significant difference between that of the average movie ratings of the 1000 top Movies of IMDB and that of the general population."
   ]
  },
  {
   "cell_type": "code",
   "execution_count": 68,
   "id": "3158b40d",
   "metadata": {},
   "outputs": [
    {
     "name": "stdout",
     "output_type": "stream",
     "text": [
      "[8.1 7.8 8.1 8.1 7.7 8.1 7.7 7.8 7.6 8.1 7.8 7.7 7.7 7.8 9.3 8.  7.9 7.7\n",
      " 8.2 7.9 7.9 7.9 8.1 7.7 8.1 7.6 7.7 8.2 7.7 7.6]\n",
      "7.919999999999998\n"
     ]
    },
    {
     "data": {
      "text/plain": [
       "<AxesSubplot:>"
      ]
     },
     "execution_count": 68,
     "metadata": {},
     "output_type": "execute_result"
    },
    {
     "data": {
      "image/png": "[encoded data removed]",
      "text/plain": [
       "<Figure size 640x480 with 1 Axes>"
      ]
     },
     "metadata": {},
     "output_type": "display_data"
    }
   ],
   "source": [
    "#take random sample of 30\n",
    "\n",
    "sample_size = 30\n",
    "rating_sample = np.random.choice(df['Movie Rating'], sample_size)\n",
    "print(rating_sample)\n",
    "print(rating_sample.mean())\n",
    "\n",
    "sns.violinplot(x=rating_sample)"
   ]
  },
  {
   "cell_type": "code",
   "execution_count": 10,
   "id": "4ee017e3",
   "metadata": {},
   "outputs": [
    {
     "data": {
      "text/plain": [
       "6.125891693192224e-18"
      ]
     },
     "execution_count": 10,
     "metadata": {},
     "output_type": "execute_result"
    }
   ],
   "source": [
    "#testing to see if different from the general average 7.0\n",
    "ttest, p_value = ttest_1samp(rating_sample, 7)\n",
    "p_value"
   ]
  },
  {
   "cell_type": "markdown",
   "id": "b97b0877",
   "metadata": {},
   "source": [
    "Thus, since the p-value is less than 0.05, we reject the null hypothesis."
   ]
  },
  {
   "cell_type": "code",
   "execution_count": 69,
   "id": "a3a32ac0",
   "metadata": {},
   "outputs": [
    {
     "name": "stdout",
     "output_type": "stream",
     "text": [
      "Reject Null Hypothesis.\n"
     ]
    }
   ],
   "source": [
    "if(p_value < 0.05):\n",
    "    print(\"Reject Null Hypothesis.\")\n",
    "else:\n",
    "    print(\"Do not reject.\")"
   ]
  },
  {
   "cell_type": "code",
   "execution_count": null,
   "id": "78284919",
   "metadata": {},
   "outputs": [],
   "source": [
    "\n"
   ]
  }
 ],
 "metadata": {
  "kernelspec": {
   "display_name": "Python 3 (ipykernel)",
   "language": "python",
   "name": "python3"
  },
  "language_info": {
   "codemirror_mode": {
    "name": "ipython",
    "version": 3
   },
   "file_extension": ".py",
   "mimetype": "text/x-python",
   "name": "python",
   "nbconvert_exporter": "python",
   "pygments_lexer": "ipython3",
   "version": "3.9.13"
  }
 },
 "nbformat": 4,
 "nbformat_minor": 5
}
